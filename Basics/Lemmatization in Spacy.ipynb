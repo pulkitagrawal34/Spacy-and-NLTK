{
 "cells": [
  {
   "cell_type": "code",
   "execution_count": null,
   "metadata": {},
   "outputs": [],
   "source": [
    "\"\"\"In contrast to stemming, lemmatization looks beyond word reduction, and \n",
    "considers a language's full vocabulary to apply a morphological analysis\n",
    "to words.\n",
    "\n",
    "The lemma of 'was' is 'be' and the lemma of 'mice' is 'mouse'.\n",
    "Further, the lemma of 'meeting' might be 'meet' or 'meeting' depending on\n",
    "its use in a sentence.\"\"\""
   ]
  },
  {
   "cell_type": "code",
   "execution_count": 3,
   "metadata": {},
   "outputs": [],
   "source": [
    "import spacy"
   ]
  },
  {
   "cell_type": "code",
   "execution_count": 4,
   "metadata": {},
   "outputs": [],
   "source": [
    "nlp = spacy.load(\"en_core_web_sm\")"
   ]
  },
  {
   "cell_type": "code",
   "execution_count": 9,
   "metadata": {},
   "outputs": [],
   "source": [
    "doc1= nlp(u\"I am a runner running in a race because i love to run since i ran today\")"
   ]
  },
  {
   "cell_type": "code",
   "execution_count": 10,
   "metadata": {},
   "outputs": [
    {
     "name": "stdout",
     "output_type": "stream",
     "text": [
      "I \t PRON \t -PRON-\n",
      "am \t VERB \t be\n",
      "a \t DET \t a\n",
      "runner \t NOUN \t runner\n",
      "running \t VERB \t run\n",
      "in \t ADP \t in\n",
      "a \t DET \t a\n",
      "race \t NOUN \t race\n",
      "because \t ADP \t because\n",
      "i \t PRON \t i\n",
      "love \t VERB \t love\n",
      "to \t PART \t to\n",
      "run \t VERB \t run\n",
      "since \t ADP \t since\n",
      "i \t PRON \t i\n",
      "ran \t VERB \t run\n",
      "today \t NOUN \t today\n"
     ]
    }
   ],
   "source": [
    "for token in doc1:\n",
    "    print(token.text, '\\t', token.pos_, '\\t', token.lemma_)"
   ]
  },
  {
   "cell_type": "code",
   "execution_count": 28,
   "metadata": {},
   "outputs": [],
   "source": [
    "def show_lemmas(text):\n",
    "    for token in text:\n",
    "        print(f\"{token.text:{10}} {token.pos_:{10}}{token.lemma_:<20}{token.lemma}\")  "
   ]
  },
  {
   "cell_type": "code",
   "execution_count": 29,
   "metadata": {},
   "outputs": [
    {
     "name": "stdout",
     "output_type": "stream",
     "text": [
      "I          PRON      -PRON-              561228191312463089\n",
      "am         VERB      be                  10382539506755952630\n",
      "a          DET       a                   11901859001352538922\n",
      "runner     NOUN      runner              12640964157389618806\n",
      "running    VERB      run                 12767647472892411841\n",
      "in         ADP       in                  3002984154512732771\n",
      "a          DET       a                   11901859001352538922\n",
      "race       NOUN      race                8048469955494714898\n",
      "because    ADP       because             16950148841647037698\n",
      "i          PRON      i                   5097672513440128799\n",
      "love       VERB      love                3702023516439754181\n",
      "to         PART      to                  3791531372978436496\n",
      "run        VERB      run                 12767647472892411841\n",
      "since      ADP       since               10066841407251338481\n",
      "i          PRON      i                   5097672513440128799\n",
      "ran        VERB      run                 12767647472892411841\n",
      "today      NOUN      today               11042482332948150395\n"
     ]
    }
   ],
   "source": [
    "show_lemmas(doc1)"
   ]
  },
  {
   "cell_type": "code",
   "execution_count": null,
   "metadata": {},
   "outputs": [],
   "source": []
  },
  {
   "cell_type": "code",
   "execution_count": null,
   "metadata": {},
   "outputs": [],
   "source": []
  }
 ],
 "metadata": {
  "kernelspec": {
   "display_name": "Python 3",
   "language": "python",
   "name": "python3"
  },
  "language_info": {
   "codemirror_mode": {
    "name": "ipython",
    "version": 3
   },
   "file_extension": ".py",
   "mimetype": "text/x-python",
   "name": "python",
   "nbconvert_exporter": "python",
   "pygments_lexer": "ipython3",
   "version": "3.7.1"
  }
 },
 "nbformat": 4,
 "nbformat_minor": 2
}
