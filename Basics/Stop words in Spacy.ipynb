{
 "cells": [
  {
   "cell_type": "code",
   "execution_count": 1,
   "metadata": {},
   "outputs": [],
   "source": [
    "import spacy"
   ]
  },
  {
   "cell_type": "code",
   "execution_count": 2,
   "metadata": {},
   "outputs": [],
   "source": [
    "nlp = spacy.load(\"en_core_web_sm\")"
   ]
  },
  {
   "cell_type": "code",
   "execution_count": 4,
   "metadata": {},
   "outputs": [
    {
     "name": "stdout",
     "output_type": "stream",
     "text": [
      "{'hereafter', 'together', 'almost', 'therein', 'again', 'give', 'eleven', 'back', 'former', 'whither', 'when', 'beyond', 'hundred', 'twelve', 'hereby', 'wherein', 'still', 'up', 'amount', 'seemed', 'other', 'mine', 'latterly', 'besides', 'move', 'and', 'is', 'per', 'just', 'doing', 'another', 'somehow', 'alone', \"'s\", 'if', 'becoming', 'which', 'thence', \"'ll\", 'what', 'three', 'afterwards', 'even', 'then', 'very', 'they', 'anyway', 'six', '’s', 'whereupon', 'go', 'were', 'anything', 'whatever', 'no', 'him', 'hers', 'whoever', 'either', 'first', 'above', 'whence', 'may', 'except', 'by', 'n‘t', 'under', 'did', 'amongst', 'its', 'less', 'at', 'get', 'none', 'between', 'seems', 'down', 'yours', 'had', 'sometimes', 'somewhere', 'your', 'from', 'out', 'seem', \"'d\", 'everywhere', 'those', 'before', 'meanwhile', 'namely', 'could', 'became', 'such', 'wherever', 'perhaps', 'for', 'seeming', 'am', 'next', 'more', \"'ve\", 'across', 'over', 'himself', 'become', 'few', 're', 'many', '’re', 'does', 'a', 'ours', 'after', 'once', 'elsewhere', 'unless', 'how', 'since', 'yourself', '’ll', 'where', 'but', 'whereafter', \"'re\", 'regarding', 'say', 'bottom', 'otherwise', 'do', 'are', 'during', 'we', 'ca', 'them', 'here', 'formerly', 'always', 'her', 'becomes', 'off', 'least', 'so', 'five', 'however', 'really', 'was', 'make', 'these', 'yourselves', 'eight', 'forty', 'see', 'fifty', 'four', 'our', 'please', 'well', 'with', 'done', 'whether', 'therefore', 'serious', 'though', 'ever', 'myself', 'nevertheless', 'often', 'ourselves', 'name', 'along', 'own', 'hereupon', 'should', 'there', 'noone', 'thereupon', 'around', 'whereas', 'would', 'latter', 'nobody', 'both', 'he', 'quite', 'thereafter', 'in', 'yet', 'last', '‘ll', 'herself', 'towards', 'put', 'moreover', 'of', 'been', 'you', 'the', 'much', 'behind', 'upon', 'it', 'onto', 'on', 'might', 'one', '‘d', 'throughout', 'front', 'something', 'be', 'this', 'nine', 'itself', 'into', 'not', 'someone', 'beside', 'made', '‘re', 'to', 'nor', 'using', 'also', 'my', 'else', 'twenty', 'his', 'anyone', 'herein', 'ten', 'various', 'who', 'why', 'never', 'must', 'among', 'keep', 'me', 'whole', 'now', 'already', 'call', 'rather', 'most', 'several', 'sometime', 'n’t', 'via', 'because', 'within', 'than', 'beforehand', 'or', '‘m', 'any', 'each', 'about', 'an', 'third', 'although', 'two', 'until', 'neither', 'top', 'thus', 'only', 'mostly', 'while', 'take', \"n't\", 'due', 'anyhow', 'some', '’m', '’d', 'part', '‘s', 'cannot', 'indeed', 'that', 'sixty', '‘ve', 'can', 'their', 'against', 'nowhere', 'show', \"'m\", 'she', 'themselves', 'full', 'toward', 'us', 'further', 'everything', 'whereby', 'has', 'side', 'thereby', 'nothing', 'as', 'every', 'too', 'all', 'hence', 'everyone', 'i', 'whenever', 'same', 'below', 'whose', 'enough', 'fifteen', 'used', 'without', 'empty', 'being', 'have', 'whom', 'anywhere', 'thru', '’ve', 'through', 'others', 'will'}\n"
     ]
    }
   ],
   "source": [
    "print(nlp.Defaults.stop_words)"
   ]
  },
  {
   "cell_type": "code",
   "execution_count": 7,
   "metadata": {},
   "outputs": [
    {
     "data": {
      "text/plain": [
       "326"
      ]
     },
     "execution_count": 7,
     "metadata": {},
     "output_type": "execute_result"
    }
   ],
   "source": [
    "len(nlp.Defaults.stop_words)"
   ]
  },
  {
   "cell_type": "code",
   "execution_count": 8,
   "metadata": {},
   "outputs": [
    {
     "data": {
      "text/plain": [
       "'To check if a word is stop word'"
      ]
     },
     "execution_count": 8,
     "metadata": {},
     "output_type": "execute_result"
    }
   ],
   "source": [
    "\"\"\"To check if a word is stop word\"\"\""
   ]
  },
  {
   "cell_type": "code",
   "execution_count": 10,
   "metadata": {},
   "outputs": [
    {
     "data": {
      "text/plain": [
       "True"
      ]
     },
     "execution_count": 10,
     "metadata": {},
     "output_type": "execute_result"
    }
   ],
   "source": [
    "nlp.vocab[\"is\"].is_stop"
   ]
  },
  {
   "cell_type": "code",
   "execution_count": 11,
   "metadata": {},
   "outputs": [
    {
     "data": {
      "text/plain": [
       "False"
      ]
     },
     "execution_count": 11,
     "metadata": {},
     "output_type": "execute_result"
    }
   ],
   "source": [
    "nlp.vocab[\"mystry\"].is_stop"
   ]
  },
  {
   "cell_type": "code",
   "execution_count": null,
   "metadata": {},
   "outputs": [],
   "source": []
  },
  {
   "cell_type": "code",
   "execution_count": 12,
   "metadata": {},
   "outputs": [
    {
     "data": {
      "text/plain": [
       "'Adding words in stopwords'"
      ]
     },
     "execution_count": 12,
     "metadata": {},
     "output_type": "execute_result"
    }
   ],
   "source": [
    "\"\"\"Adding words in stopwords\"\"\""
   ]
  },
  {
   "cell_type": "code",
   "execution_count": 13,
   "metadata": {},
   "outputs": [],
   "source": [
    "nlp.Defaults.stop_words.add(\"btw\")"
   ]
  },
  {
   "cell_type": "code",
   "execution_count": 14,
   "metadata": {},
   "outputs": [],
   "source": [
    "nlp.vocab['btw'].is_stop= True"
   ]
  },
  {
   "cell_type": "code",
   "execution_count": 15,
   "metadata": {},
   "outputs": [
    {
     "data": {
      "text/plain": [
       "327"
      ]
     },
     "execution_count": 15,
     "metadata": {},
     "output_type": "execute_result"
    }
   ],
   "source": [
    "len(nlp.Defaults.stop_words) \n",
    "\"\"\"The length of the set incresed by 1\"\"\""
   ]
  },
  {
   "cell_type": "code",
   "execution_count": 17,
   "metadata": {},
   "outputs": [
    {
     "data": {
      "text/plain": [
       "True"
      ]
     },
     "execution_count": 17,
     "metadata": {},
     "output_type": "execute_result"
    }
   ],
   "source": [
    "nlp.vocab[\"btw\"].is_stop"
   ]
  },
  {
   "cell_type": "code",
   "execution_count": null,
   "metadata": {},
   "outputs": [],
   "source": []
  },
  {
   "cell_type": "code",
   "execution_count": 18,
   "metadata": {},
   "outputs": [
    {
     "data": {
      "text/plain": [
       "'Removing words from the stop_word set'"
      ]
     },
     "execution_count": 18,
     "metadata": {},
     "output_type": "execute_result"
    }
   ],
   "source": [
    "\"\"\"Removing words from the stop_word set\"\"\""
   ]
  },
  {
   "cell_type": "code",
   "execution_count": 26,
   "metadata": {},
   "outputs": [],
   "source": [
    "nlp.Defaults.stop_words.remove('btw')"
   ]
  },
  {
   "cell_type": "code",
   "execution_count": 28,
   "metadata": {},
   "outputs": [],
   "source": [
    "nlp.vocab[\"btw\"].is_stop = False"
   ]
  },
  {
   "cell_type": "code",
   "execution_count": 29,
   "metadata": {},
   "outputs": [
    {
     "data": {
      "text/plain": [
       "False"
      ]
     },
     "execution_count": 29,
     "metadata": {},
     "output_type": "execute_result"
    }
   ],
   "source": [
    "nlp.vocab[\"btw\"].is_stop"
   ]
  }
 ],
 "metadata": {
  "kernelspec": {
   "display_name": "Python 3",
   "language": "python",
   "name": "python3"
  },
  "language_info": {
   "codemirror_mode": {
    "name": "ipython",
    "version": 3
   },
   "file_extension": ".py",
   "mimetype": "text/x-python",
   "name": "python",
   "nbconvert_exporter": "python",
   "pygments_lexer": "ipython3",
   "version": "3.7.1"
  }
 },
 "nbformat": 4,
 "nbformat_minor": 2
}
